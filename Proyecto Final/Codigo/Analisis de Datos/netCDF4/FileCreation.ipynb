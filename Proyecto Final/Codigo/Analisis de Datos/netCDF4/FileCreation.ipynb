{
 "cells": [
  {
   "cell_type": "code",
   "execution_count": null,
   "metadata": {},
   "outputs": [],
   "source": [
    "import netCDF4 as nc\n",
    "import numpy as np\n",
    "\n",
    "# Crear un nuevo archivo netCDF4\n",
    "ds = nc.Dataset('example.nc', 'w', format='NETCDF4')\n",
    "\n",
    "# Crear dimensiones\n",
    "time = ds.createDimension('time', None)  # None indica dimensión ilimitada\n",
    "lat = ds.createDimension('lat', 73)\n",
    "lon = ds.createDimension('lon', 144)\n",
    "\n",
    "# Crear variables\n",
    "times = ds.createVariable('time', 'f4', ('time',))\n",
    "latitudes = ds.createVariable('lat', 'f4', ('lat',))\n",
    "longitudes = ds.createVariable('lon', 'f4', ('lon',))\n",
    "temperature = ds.createVariable('temp', 'f4', ('time', 'lat', 'lon'))\n",
    "\n",
    "# Añadir datos a las variables\n",
    "latitudes[:] = np.linspace(-90, 90, 73)\n",
    "longitudes[:] = np.linspace(-180, 180, 144)\n",
    "temperature[:, :, :] = np.random.uniform(low=-20, high=30, size=(len(times), len(latitudes), len(longitudes)))\n",
    "\n",
    "# Añadir atributos\n",
    "ds.description = 'Ejemplo de archivo netCDF4'\n",
    "latitudes.units = 'degrees north'\n",
    "longitudes.units = 'degrees east'\n",
    "temperature.units = 'Celsius'\n",
    "\n",
    "# Cerrar el archivo\n",
    "ds.close()\n"
   ]
  },
  {
   "cell_type": "code",
   "execution_count": null,
   "metadata": {},
   "outputs": [],
   "source": []
  }
 ],
 "metadata": {
  "kernelspec": {
   "display_name": "base",
   "language": "python",
   "name": "python3"
  },
  "language_info": {
   "codemirror_mode": {
    "name": "ipython",
    "version": 3
   },
   "file_extension": ".py",
   "mimetype": "text/x-python",
   "name": "python",
   "nbconvert_exporter": "python",
   "pygments_lexer": "ipython3",
   "version": "3.11.5"
  }
 },
 "nbformat": 4,
 "nbformat_minor": 2
}
