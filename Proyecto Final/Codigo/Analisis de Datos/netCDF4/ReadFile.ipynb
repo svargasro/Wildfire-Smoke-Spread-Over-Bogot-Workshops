{
 "cells": [
  {
   "cell_type": "code",
   "execution_count": null,
   "metadata": {},
   "outputs": [],
   "source": [
    "import netCDF4 as nc\n",
    "\n",
    "# Abrir un archivo netCDF4 existente\n",
    "ds = nc.Dataset('example.nc')\n",
    "\n",
    "# Leer variables\n",
    "times = ds.variables['time'][:]\n",
    "latitudes = ds.variables['lat'][:]\n",
    "longitudes = ds.variables['lon'][:]\n",
    "temperature = ds.variables['temp'][:]\n",
    "\n",
    "print('Tiempo:', times)\n",
    "print('Latitudes:', latitudes)\n",
    "print('Longitudes:', longitudes)\n",
    "print('Temperatura:', temperature)\n",
    "\n",
    "# Cerrar el archivo\n",
    "ds.close()\n"
   ]
  }
 ],
 "metadata": {
  "kernelspec": {
   "display_name": "base",
   "language": "python",
   "name": "python3"
  },
  "language_info": {
   "codemirror_mode": {
    "name": "ipython",
    "version": 3
   },
   "file_extension": ".py",
   "mimetype": "text/x-python",
   "name": "python",
   "nbconvert_exporter": "python",
   "pygments_lexer": "ipython3",
   "version": "3.11.5"
  }
 },
 "nbformat": 4,
 "nbformat_minor": 2
}
