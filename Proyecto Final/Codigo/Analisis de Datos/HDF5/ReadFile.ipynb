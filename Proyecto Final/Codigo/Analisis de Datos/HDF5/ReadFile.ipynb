{
 "cells": [
  {
   "cell_type": "code",
   "execution_count": null,
   "metadata": {},
   "outputs": [],
   "source": [
    "import h5py\n",
    "\n",
    "# Abrir un archivo HDF5 existente\n",
    "file = h5py.File('example.h5', 'r')\n",
    "\n",
    "# Leer el dataset\n",
    "dset = file['dataset']\n",
    "\n",
    "# Mostrar datos y atributos\n",
    "print('Datos:', dset[:])\n",
    "print('Descripción:', dset.attrs['description'])\n",
    "\n",
    "# Cerrar el archivo\n",
    "file.close()\n"
   ]
  }
 ],
 "metadata": {
  "kernelspec": {
   "display_name": "base",
   "language": "python",
   "name": "python3"
  },
  "language_info": {
   "codemirror_mode": {
    "name": "ipython",
    "version": 3
   },
   "file_extension": ".py",
   "mimetype": "text/x-python",
   "name": "python",
   "nbconvert_exporter": "python",
   "pygments_lexer": "ipython3",
   "version": "3.11.5"
  }
 },
 "nbformat": 4,
 "nbformat_minor": 2
}
