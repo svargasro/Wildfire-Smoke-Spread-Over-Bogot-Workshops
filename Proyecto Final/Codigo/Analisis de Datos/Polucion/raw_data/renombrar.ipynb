{
 "cells": [
  {
   "cell_type": "code",
   "execution_count": null,
   "metadata": {},
   "outputs": [],
   "source": [
    "import os\n",
    "\n",
    "# Especifica el directorio donde se encuentran los archivos\n",
    "directorio = 'raw_data/'\n",
    "\n",
    "# Parte del nombre que deseas cambiar\n",
    "parte_vieja = 'fromGraph_18-05-2024'\n",
    "parte_nueva = 'PM10_22-01-2024'\n",
    "\n",
    "# Listar todos los archivos en el directorio\n",
    "for nombre_archivo in os.listdir(directorio):\n",
    "    # Comprobar si el archivo contiene la parte vieja\n",
    "    if parte_vieja in nombre_archivo:\n",
    "        # Crear el nuevo nombre del archivo reemplazando la parte vieja con la nueva\n",
    "        nuevo_nombre = nombre_archivo.replace(parte_vieja, parte_nueva)\n",
    "        # Obtener las rutas completas\n",
    "        ruta_vieja = os.path.join(directorio, nombre_archivo)\n",
    "        ruta_nueva = os.path.join(directorio, nuevo_nombre)\n",
    "        # Renombrar el archivo\n",
    "        os.rename(ruta_vieja, ruta_nueva)\n",
    "        print(f'Renombrado: {ruta_vieja} -> {ruta_nueva}')\n",
    "\n",
    "print('Renombrado completado.')"
   ]
  }
 ],
 "metadata": {
  "language_info": {
   "name": "python"
  }
 },
 "nbformat": 4,
 "nbformat_minor": 2
}
