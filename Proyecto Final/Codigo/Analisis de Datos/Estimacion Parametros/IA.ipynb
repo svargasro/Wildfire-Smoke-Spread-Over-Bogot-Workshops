{
 "cells": [
  {
   "cell_type": "code",
   "execution_count": 2,
   "metadata": {},
   "outputs": [],
   "source": [
    "import numpy as np\n",
    "import tensorflow as tf\n",
    "from tensorflow.keras.models import Sequential\n",
    "from tensorflow.keras.layers import Dense\n",
    "from scipy.optimize import minimize\n"
   ]
  },
  {
   "cell_type": "code",
   "execution_count": null,
   "metadata": {},
   "outputs": [],
   "source": [
    "#Carga de datos\n",
    "Ly, Lx = 14, 10 \n",
    "#rho_real = np.load\n",
    "\n",
    "np.random.seed(0)\n",
    "dimension = (Ly,Lx)\n",
    "rho_sim = np.random.exponential(scale=1, size=(dimension, 2))\n",
    "#rho_sim = LB_AD(D,S)"
   ]
  },
  {
   "cell_type": "code",
   "execution_count": null,
   "metadata": {},
   "outputs": [],
   "source": [
    "def MSE(rho_sim, rho_real):\n",
    "    error = np.sum((rho_real - rho_sim)**2)\n",
    "    return error"
   ]
  },
  {
   "cell_type": "code",
   "execution_count": null,
   "metadata": {},
   "outputs": [],
   "source": [
    "result = minimize(MSE,method=\"BFGS\")"
   ]
  },
  {
   "cell_type": "code",
   "execution_count": null,
   "metadata": {},
   "outputs": [],
   "source": [
    "D_opt, S_opt = result.x"
   ]
  },
  {
   "cell_type": "code",
   "execution_count": null,
   "metadata": {},
   "outputs": [],
   "source": []
  },
  {
   "cell_type": "code",
   "execution_count": null,
   "metadata": {},
   "outputs": [],
   "source": []
  },
  {
   "cell_type": "code",
   "execution_count": null,
   "metadata": {},
   "outputs": [],
   "source": [
    "import numpy as np\n",
    "import tensorflow as tf\n",
    "from tensorflow.keras.models import Sequential\n",
    "from tensorflow.keras.layers import Dense\n",
    "\n",
    "# Cargar rho_real desde tus datos reales\n",
    "rho_real = np.load('ruta_a_tus_datos_rho_real.npy')  # Carga tus datos reales de rho\n",
    "velocidad_aire = np.load('ruta_a_tus_datos_velocidad_aire.npy')  # Carga tus datos de velocidad del aire\n",
    "\n",
    "# Función de simulación (rho_sim) que depende de D y S\n",
    "def simulacion_lbm(D, S, velocidad_aire):\n",
    "    # Aquí iría tu código de simulación real que produce rho_sim basado en D, S y velocidad del aire\n",
    "    rho_simulado = 0.7 * D + 0.3 * S  # Este es un placeholder, debes reemplazarlo con tu simulación real\n",
    "    return rho_simulado\n",
    "\n",
    "# Generar datos de entrenamiento\n",
    "num_datos = len(rho_real)\n",
    "D_inicial = np.random.rand(num_datos, 1) * 0.1  # Valores iniciales de D\n",
    "S_inicial = np.random.rand(num_datos, 1) * 0.1  # Valores iniciales de S\n",
    "\n",
    "# Crear una red neuronal para ajustar D y S\n",
    "model = Sequential([\n",
    "    Dense(64, input_shape=(3,), activation='relu'),  # 3 entradas: densidad de polución, velocidad del aire, y rho_sim inicial\n",
    "    Dense(64, activation='relu'),\n",
    "    Dense(2)  # Dos salidas: D y S\n",
    "])\n",
    "\n",
    "# Compilar el modelo\n",
    "model.compile(optimizer='adam', loss='mse')\n",
    "\n",
    "# Entrenamiento\n",
    "for epoch in range(100):\n",
    "    rho_sim = simulacion_lbm(D_inicial, S_inicial, velocidad_aire)\n",
    "    entradas = np.hstack((rho_real, velocidad_aire, rho_sim))\n",
    "    parametros = model.predict(entradas)\n",
    "    \n",
    "    # Actualizar D y S basados en las predicciones de la red\n",
    "    D_inicial, S_inicial = parametros[:, 0], parametros[:, 1]\n",
    "    \n",
    "    # Recalcular rho_sim con los nuevos valores de D y S\n",
    "    rho_sim = simulacion_lbm(D_inicial, S_inicial, velocidad_aire)\n",
    "    \n",
    "    # Re-entrenar la red neuronal con los nuevos datos simulados\n",
    "    model.fit(entradas, np.hstack((D_inicial, S_inicial)), epochs=1, batch_size=32, verbose=1)\n",
    "\n",
    "# Una vez entrenada la red, podemos hacer predicciones para nuevos datos\n",
    "densidad_polucion_test = np.array([[0.7]])\n",
    "velocidad_aire_test = np.array([[0.3]])\n",
    "rho_sim_test = simulacion_lbm(D_inicial, S_inicial, velocidad_aire_test)\n",
    "entradas_test = np.hstack((densidad_polucion_test, velocidad_aire_test, rho_sim_test))\n",
    "\n",
    "parametros_estimados = model.predict(entradas_test)\n",
    "\n",
    "# Mostrar resultados\n",
    "print(f\"Para una densidad de polución de {densidad_polucion_test[0][0]} y velocidad de aire de {velocidad_aire_test[0][0]}:\")\n",
    "print(f\"Constante de difusión estimada (D): {parametros_estimados[0][0]:.5f}\")\n",
    "print(f\"Parámetro de fuente estimado (S): {parametros_estimados[0][1]:.5f}\")\n",
    "\n",
    "# Calcular rho_simulado final con los parámetros optimizados\n",
    "D_estimado, S_estimado = parametros_estimados[0]\n",
    "rho_simulado_final = simulacion_lbm(D_estimado, S_estimado, velocidad_aire_test)\n",
    "\n",
    "# Verificar el error final\n",
    "mse_final = np.mean((rho_real - rho_simulado_final) ** 2)\n",
    "print(f\"MSE final entre rho_real y rho_simulado: {mse_final}\")\n"
   ]
  }
 ],
 "metadata": {
  "kernelspec": {
   "display_name": "Python 3",
   "language": "python",
   "name": "python3"
  },
  "language_info": {
   "codemirror_mode": {
    "name": "ipython",
    "version": 3
   },
   "file_extension": ".py",
   "mimetype": "text/x-python",
   "name": "python",
   "nbconvert_exporter": "python",
   "pygments_lexer": "ipython3",
   "version": "3.11.9"
  }
 },
 "nbformat": 4,
 "nbformat_minor": 2
}
