{
 "cells": [
  {
   "cell_type": "code",
   "execution_count": null,
   "metadata": {},
   "outputs": [],
   "source": [
    "#Librerias\n",
    "from scipy.optimize import minimize\n",
    "\n"
   ]
  },
  {
   "cell_type": "code",
   "execution_count": null,
   "metadata": {},
   "outputs": [],
   "source": [
    "#Parametros reales\n",
    "## Buscar un rango ya establecido de valores S (Tasa de caida y subidad de la polucion)\n",
    "## Buscar parametro D que depende de la temperatura ambiente en un cierto rango\n",
    "\n",
    "\n",
    "# Definir la función de simulación y la función objetivo\n",
    "def funcion_objetivo(parametros, datos_reales, velocidades, tiempos):\n",
    "    D, S = parametros\n",
    "    error_total = 0.0\n",
    "    for i, tiempo in enumerate(tiempos):\n",
    "        rho_sim = simulacion_lbm(D, S, velocidades[i], tiempo)\n",
    "        error_total += (rho_sim - datos_reales[i])**2\n",
    "    return error_total\n",
    "\n",
    "# Datos de entrada: densidades reales, velocidades, tiempos\n",
    "# Aquí se asume que ya tienes tus datos reales y velocidades.\n",
    "result = minimize(funcion_objetivo, [D_inicial, S_inicial], args=(datos_reales, velocidades, tiempos))\n",
    "\n",
    "# Parámetros optimizados\n",
    "D_opt, S_opt = result.x\n",
    "print(f\"Parámetro D optimizado: {D_opt}\")\n",
    "print(f\"Parámetro S optimizado: {S_opt}\")\n",
    "\n",
    "#Procedimiento \n",
    "## Hacer MSE para los datos de la simulacion y los datos reales\n",
    "\n",
    "\n",
    "#Analisis:\n",
    "##Buscar que rango tiene sentido para los valores de los parametros\n",
    "##Buscar como pasar los parametros a la simulacion conn unidades adecuadas"
   ]
  }
 ],
 "metadata": {
  "language_info": {
   "name": "python"
  }
 },
 "nbformat": 4,
 "nbformat_minor": 2
}
