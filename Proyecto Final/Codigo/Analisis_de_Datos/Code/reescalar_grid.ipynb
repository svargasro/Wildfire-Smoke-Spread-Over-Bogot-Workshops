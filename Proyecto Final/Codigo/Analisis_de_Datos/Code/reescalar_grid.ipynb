{
 "cells": [
  {
   "cell_type": "code",
   "execution_count": 2,
   "metadata": {},
   "outputs": [],
   "source": [
    "import numpy as np"
   ]
  },
  {
   "cell_type": "code",
   "execution_count": 3,
   "metadata": {},
   "outputs": [],
   "source": [
    "def rescale(x_old, y_old, original_size, new_size):\n",
    "    \"\"\"\n",
    "    x_old, y_old: coordenadas del incendio en la grilla original\n",
    "    original_size: tamaño de la grilla original (Lxold, Lyold)\n",
    "    new_size: tamaño de la nueva grilla (Lxnew, Lynew)\n",
    "\n",
    "    (x_new, y_new): nuevas coordenadas con factor de escala\n",
    "    \"\"\"\n",
    "    original_Lx, original_Ly = original_size\n",
    "    new_Lx, new_Ly = new_size\n",
    "\n",
    "    # factor de escalada\n",
    "    scale_x = new_Lx / original_Lx\n",
    "    scale_y = new_Ly / original_Ly\n",
    "\n",
    "    # nuevas coordenadas usando el factor de escalada\n",
    "    x_new = x_old * scale_x\n",
    "    y_new = y_old * scale_y\n",
    "\n",
    "    return x_new, y_new\n",
    "\n",
    "def interpolate_rescale_coordinates(fire_coords, original_size, new_size):\n",
    "    \"\"\"\n",
    "    fire_coords: lista de coordenadas de incendios en la grilla original [(x1, y1), (x2, y2), ...].\n",
    "    original_size: tamaño de la grilla original (Lx, Ly).\n",
    "    new_size: tamaño de la nueva grilla (Lx, Ly).\n",
    "\n",
    "    \"\"\"\n",
    "    rescaled_coords = []\n",
    "\n",
    "    for (x_old, y_old) in fire_coords:\n",
    "        # interpolación para cada coordenada\n",
    "        x_new, y_new = rescale(x_old, y_old, original_size, new_size)\n",
    "        rescaled_coords.append((x_new, y_new))\n",
    "\n",
    "    return rescaled_coords # coordenadas reescaladas a la nueva grilla con interpolación"
   ]
  },
  {
   "cell_type": "code",
   "execution_count": 7,
   "metadata": {},
   "outputs": [
    {
     "name": "stdout",
     "output_type": "stream",
     "text": [
      "Nuevas coordenadas: [(60.0, 70.0), (0.0, 30.0), (60.0, 70.0), (50.0, 70.0), (40.0, 0.0), (10.0, 30.0), (60.0, 70.0), (50.0, 70.0), (20.0, 20.0), (0.0, 30.0), (50.0, 70.0), (0.0, 30.0), (50.0, 70.0), (50.0, 70.0), (50.0, 70.0), (10.0, 50.0), (50.0, 70.0), (10.0, 50.0)]\n"
     ]
    }
   ],
   "source": [
    "# meter coordenadas y tamaños\n",
    "original_size = (10, 14)\n",
    "new_size = (100, 140)\n",
    "fire_coords = [(6,7),(0,3),\n",
    "(6,7),(5,7),(4,0),(1,3),\n",
    "(6,7),(5,7),(2,2),(0,3),\n",
    "(5,7),(0,3),\n",
    "(5,7),\n",
    "(5,7),\n",
    "(5,7),(1,5),\n",
    "(5,7),(1,5)]  # coordenadas en la grilla original\n",
    "\n",
    "# Coordenadas reescaladas\n",
    "new_fire_coords = interpolate_rescale_coordinates(fire_coords, original_size, new_size)\n",
    "print(\"Nuevas coordenadas:\", new_fire_coords)"
   ]
  },
  {
   "cell_type": "code",
   "execution_count": 11,
   "metadata": {},
   "outputs": [
    {
     "name": "stdout",
     "output_type": "stream",
     "text": [
      "8470 10\n",
      "30 10\n",
      "8470 10\n",
      "7070 10\n",
      "5600 10\n",
      "1430 10\n",
      "8470 10\n",
      "7070 10\n",
      "2820 10\n",
      "30 10\n",
      "7070 10\n",
      "30 10\n",
      "7070 10\n",
      "7070 10\n",
      "7070 10\n",
      "1450 10\n",
      "7070 10\n",
      "1450 10\n"
     ]
    }
   ],
   "source": [
    "lineal_fire_coords = [int(x * new_size[1] + y) for x, y in new_fire_coords]\n",
    "\n",
    "for coord in lineal_fire_coords:\n",
    "    print(f\"{coord} 10\")"
   ]
  }
 ],
 "metadata": {
  "kernelspec": {
   "display_name": "Python 3",
   "language": "python",
   "name": "python3"
  },
  "language_info": {
   "codemirror_mode": {
    "name": "ipython",
    "version": 3
   },
   "file_extension": ".py",
   "mimetype": "text/x-python",
   "name": "python",
   "nbconvert_exporter": "python",
   "pygments_lexer": "ipython3",
   "version": "3.12.1"
  }
 },
 "nbformat": 4,
 "nbformat_minor": 2
}
