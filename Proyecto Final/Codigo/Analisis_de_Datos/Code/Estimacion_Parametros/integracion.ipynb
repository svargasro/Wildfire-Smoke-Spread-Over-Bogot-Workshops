{
 "cells": [
  {
   "cell_type": "code",
   "execution_count": 1,
   "metadata": {},
   "outputs": [],
   "source": [
    "import numpy as np\n",
    "import matplotlib.pyplot as plt"
   ]
  },
  {
   "cell_type": "code",
   "execution_count": 2,
   "metadata": {},
   "outputs": [],
   "source": [
    "%load_ext cython"
   ]
  },
  {
   "cell_type": "markdown",
   "metadata": {},
   "source": [
    "# Lattice Boltzman Adveccion Difusion"
   ]
  },
  {
   "cell_type": "code",
   "execution_count": 20,
   "metadata": {},
   "outputs": [
    {
     "name": "stderr",
     "output_type": "stream",
     "text": [
      "\n",
      "Error compiling Cython file:\n",
      "------------------------------------------------------------\n",
      "...\n",
      "    \n",
      "    # # Getter para f (convierte a NumPy array)\n",
      "    def get_f(self):\n",
      "        \n",
      "        f = self.f\n",
      "        return f\n",
      "               ^\n",
      "------------------------------------------------------------\n",
      "\n",
      "C:\\Users\\cterr\\.ipython\\cython\\_cython_magic_3499f70682869d825d0b6b373d212d7a0651ed00.pyx:241:15: Cannot convert 'double *' to Python object\n"
     ]
    }
   ],
   "source": [
    "%%cython \n",
    "import numpy as np\n",
    "cimport numpy as np\n",
    "from libc.math cimport exp, sqrt, pow, M_PI\n",
    "from libc.stdio cimport FILE, fopen, fclose, fprintf\n",
    "from cpython cimport array\n",
    "from numpy cimport PyArray_SimpleNewFromData, NPY_DOUBLE, import_array\n",
    "from libc.stdlib cimport malloc, free\n",
    "\n",
    "# Velocidad del lattice y velocidad del sonido\n",
    "cdef double C = 1.0  # Velocidad característica del lattice\n",
    "cdef double Cs = C / sqrt(3)  # Velocidad de la onda sonora\n",
    "cdef double Cs2 = Cs * Cs  # Velocidad de la onda sonora al cuadrado\n",
    "\n",
    "#-------------------------------VARIABLES GLOBALES------------------------\n",
    "\n",
    "# Parámetros de difusión y relajación\n",
    "cdef double D = 0.016  # Coeficiente de difusión\n",
    "cdef double tau = (D / Cs2) + 0.5;  # Tiempo de relajación\n",
    "cdef double Utau = 1.0 / tau  # Inverso del tiempo de relajación\n",
    "cdef double UmUtau = 1 - Utau # 1 - 1/tau\n",
    "\n",
    "#-------------------------------CLASES--------------------------------------\n",
    "cdef class LatticeBoltzman:\n",
    "    cdef int Lx, Ly, t_hour, iter_per_hour, Q\n",
    "    cdef double* w\n",
    "    cdef int index_f \n",
    "    cdef bint IsData\n",
    "    cdef int* Vx, \n",
    "    cdef int *Vy, \n",
    "    \n",
    "    cdef double* f  # Arreglo en C para f\n",
    "    cdef double* fnew  # Arreglo en C para fnew\n",
    "    \n",
    "    # cdef public np.ndarray[np.double_t, ndim=1] f\n",
    "    # cdef public np.ndarray[np.double_t, ndim=1] f_new\n",
    "    \n",
    "   \n",
    "    # Usamos `object` aquí en lugar de `np.ndarray` para evitar el error de buffer\n",
    "    cdef object id\n",
    "    cdef object rho_f\n",
    "    cdef object Ux  \n",
    "    cdef object Uy  \n",
    "    \n",
    "    def __cinit__(self, int Lx, int Ly, int t_hour, \n",
    "                  int iter_per_hour, \n",
    "                  np.ndarray[np.double_t, ndim=1] id,\n",
    "                  np.ndarray[np.double_t, ndim=1] rho_f,\n",
    "                  np.ndarray[np.double_t, ndim=1] Ux, \n",
    "                  np.ndarray[np.double_t, ndim=1] Uy):\n",
    "        \n",
    "        self.Lx = Lx\n",
    "        self.Ly = Ly\n",
    "        self.t_hour = t_hour\n",
    "        self.iter_per_hour = iter_per_hour\n",
    "        self.index_f = 0\n",
    "        self.IsData = True\n",
    "        \n",
    "        self.Q = 9\n",
    "        self.w = <double*> malloc(self.Q * sizeof(double))\n",
    "        self.Vx = <int*> malloc(self.Q * sizeof(int))\n",
    "        self.Vy = <int*> malloc(self.Q * sizeof(int))\n",
    "        \n",
    "        self.Ux = Ux\n",
    "        self.Uy = Uy\n",
    "        self.id = id\n",
    "        self.rho_f = rho_f\n",
    "\n",
    "        # Asignación de los pesos y vectores de velocidad\n",
    "        self.w[0] = 4.0 / 9\n",
    "        for i in range(1, 5):\n",
    "            self.w[i] = 1.0 / 9\n",
    "        for i in range(5, 9):\n",
    "            self.w[i] = 1.0 / 36\n",
    "\n",
    "        self.Vx[8] = 1\n",
    "        self.Vx[1] = 1\n",
    "        self.Vx[5] = 1\n",
    "        self.Vx[4] = 0\n",
    "        self.Vx[0] = 0\n",
    "        self.Vx[2] = 0\n",
    "        self.Vx[7] = -1\n",
    "        self.Vx[3] = -1\n",
    "        self.Vx[6] = -1\n",
    "\n",
    "        self.Vy[8] = -1\n",
    "        self.Vy[1] = 0\n",
    "        self.Vy[5] = 1\n",
    "        self.Vy[4] = -1\n",
    "        self.Vy[0] = 0\n",
    "        self.Vy[2] = 1\n",
    "        self.Vy[7] = -1\n",
    "        self.Vy[3] = 0\n",
    "        self.Vy[6] = 1\n",
    "\n",
    "        cdef int ArraySize = self.Lx * self.Ly * self.Q\n",
    "        self.f = <double *> malloc(ArraySize * sizeof(double))\n",
    "        self.fnew = <double *> malloc(ArraySize * sizeof(double))\n",
    "        \n",
    "       \n",
    "\n",
    "    def __dealloc__(self):\n",
    "        free(self.f)\n",
    "        free(self.fnew)\n",
    "        free(self.w)\n",
    "        free(self.Vx)\n",
    "        free(self.Vy)\n",
    "        \n",
    "\n",
    "    # def __init__(self):\n",
    "        \n",
    "    #     self.f = np.zeros((self.Lx * self.Ly * self.Q), dtype=np.double)\n",
    "    #     self.fnew = np.zeros((self.Lx * self.Ly * self.Q), dtype=np.double)\n",
    "        \n",
    "        \n",
    "    cdef int n(self, int ix, int iy, int i):\n",
    "        return (ix * self.Ly + iy) * self.Q + i\n",
    "\n",
    "    cdef double rho(self, int ix, int iy, bint UseNew):\n",
    "        cdef double sum = 0.0\n",
    "        cdef int i, n0\n",
    "        for i in range(self.Q):\n",
    "            n0 = self.n(ix, iy, i)\n",
    "            if UseNew:\n",
    "                sum += self.fnew[n0]\n",
    "            else:\n",
    "                sum += self.f[n0]\n",
    "        return sum\n",
    "\n",
    "    cdef double Jx(self, int ix, int iy, bint UseNew):\n",
    "        cdef double sum = 0.0\n",
    "        cdef int i, n0\n",
    "        for i in range(self.Q):\n",
    "            n0 = self.n(ix, iy, i)\n",
    "            if UseNew:\n",
    "                sum += self.Vx[i] * self.fnew[n0]\n",
    "            else:\n",
    "                sum += self.Vx[i] * self.f[n0]\n",
    "        return sum\n",
    "\n",
    "    cdef double Jy(self, int ix, int iy, bint UseNew):\n",
    "        cdef double sum = 0.0\n",
    "        cdef int i, n0\n",
    "        for i in range(self.Q):\n",
    "            n0 = self.n(ix, iy, i)\n",
    "            if UseNew:\n",
    "                sum += self.Vy[i] * self.fnew[n0]\n",
    "            else:\n",
    "                sum += self.Vy[i] * self.f[n0]\n",
    "        return sum\n",
    "\n",
    "    cdef double feq(self, double rho0, double Ux0, double Uy0, int i):\n",
    "        cdef double UdotVi = Ux0 * self.Vx[i] + Uy0 * self.Vy[i]\n",
    "        cdef double U2 = Ux0 * Ux0 + Uy0 * Uy0\n",
    "        return rho0 * self.w[i] * (1 + UdotVi / Cs2 + (UdotVi * UdotVi) / (2.0 * Cs2 * Cs2) - U2 / (2.0 * Cs2))\n",
    "\n",
    "    cpdef Start(self, double rho0, double Ux0, double Uy0, double mu_x, double mu_y, double sigma_x, double sigma_y):\n",
    "        cdef int ix, iy, i, n0\n",
    "        cdef double gauss_x, gauss_y, rho\n",
    "        for ix in range(self.Lx):\n",
    "            for iy in range(self.Ly):\n",
    "                gauss_x = exp(-0.5 * pow((ix - mu_x) / sigma_x, 2)) / (sigma_x * sqrt(2 * M_PI))\n",
    "                gauss_y = exp(-0.5 * pow((iy - mu_y) / sigma_y, 2)) / (sigma_y * sqrt(2 * M_PI))\n",
    "                rho = rho0 * gauss_x * gauss_y\n",
    "                for i in range(self.Q):\n",
    "                    n0 = self.n(ix, iy, i)\n",
    "                    self.f[n0] = self.feq(rho, Ux0, Uy0, i)\n",
    "\n",
    "    cpdef Collision(self):\n",
    "        cdef int ix, iy, i, n0\n",
    "        cdef double rho0, Ux0, Uy0\n",
    "        for ix in range(self.Lx):\n",
    "            for iy in range(self.Ly):\n",
    "                rho0 = self.rho(ix, iy, False)\n",
    "                Ux0 = self.Jx(ix, iy, False) / rho0\n",
    "                Uy0 = self.Jy(ix, iy, False) / rho0\n",
    "                for i in range(self.Q):\n",
    "                    n0 = self.n(ix, iy, i)\n",
    "                    self.fnew[n0] = UmUtau * self.f[n0] + Utau * self.feq(rho0, Ux0, Uy0, i)\n",
    "\n",
    "    cpdef ImposeFields(self, int t):\n",
    "        cdef int ix, iy, i, index\n",
    "        cdef int auxT = t // self.iter_per_hour\n",
    "        cdef double rho0, Ux0, Uy0\n",
    "        cdef int index_tmp = 0\n",
    "\n",
    "        for ix in range(self.Lx):\n",
    "            for iy in range(self.Ly):\n",
    "                index = ix * self.Ly + iy + self.Lx * self.Ly * auxT\n",
    "                Ux0 = self.Ux[index]\n",
    "                Uy0 = self.Uy[index]\n",
    "                rho0 = self.rho(ix, iy, True)\n",
    "\n",
    "                for i in range(self.Q):\n",
    "                    n0 = self.n(ix, iy, i)\n",
    "                    \n",
    "                    if ((ix * self.Ly) + iy) == self.id[self.index_f] and self.IsData:\n",
    "                        self.fnew[n0] = self.feq(self.rho_f[self.index_f], Ux0, Uy0, i)\n",
    "\n",
    "                        if i == self.Q - 1:\n",
    "                            self.index_f += 1\n",
    "                            index_tmp += 1\n",
    "                        if (t + 1) % (self.iter_per_hour * 24) != 0:\n",
    "                            self.index_f -= index_tmp\n",
    "                        if self.index_f >= len(self.id):\n",
    "                            self.IsData = False\n",
    "                    else:\n",
    "                        self.fnew[n0] = self.feq(rho0, Ux0, Uy0, i)\n",
    "\n",
    "    cpdef Advection(self):\n",
    "        cdef int ix, iy, i, ixnext, iynext, n0, n0next\n",
    "        for ix in range(self.Lx):\n",
    "            for iy in range(self.Ly):\n",
    "                for i in range(self.Q):\n",
    "                    ixnext = ix + self.Vx[i]\n",
    "                    iynext = iy + self.Vy[i]\n",
    "                    if 0 <= ixnext < self.Lx and 0 <= iynext < self.Ly:\n",
    "                        n0 = self.n(ix, iy, i)\n",
    "                        n0next = self.n(ixnext, iynext, i)\n",
    "                        self.f[n0next] = self.fnew[n0]\n",
    "\n",
    "    cpdef np.ndarray[np.double_t, ndim=2] Data(self):\n",
    "        # Crear un array de NumPy para almacenar los resultados\n",
    "        cdef np.ndarray[np.double_t, ndim=2] result = np.zeros((self.Lx, self.Ly), dtype=np.double)\n",
    "        cdef double rho0\n",
    "        cdef int ix, iy\n",
    "        cdef int step = 1\n",
    "        \n",
    "        # Rellenar el array de resultados\n",
    "        for ix in range(0, self.Lx, step):\n",
    "            for iy in range(0, self.Ly, step):\n",
    "                rho0 = self.rho(ix, iy, False)\n",
    "                result[ix, iy] = rho0  # Asignar valores al array NumPy\n",
    "\n",
    "        return result\n",
    "    "
   ]
  },
  {
   "cell_type": "code",
   "execution_count": 21,
   "metadata": {},
   "outputs": [],
   "source": [
    "rho0 = 0.001\n",
    "Ux0 = 0.0\n",
    "Uy0 = 0.0\n",
    "\n",
    "Lx = 100\n",
    "Ly = int(Lx*1.4)\n",
    "t_hour = 100\n",
    "iter_per_hour = 10\n",
    "t_inital = 0\n",
    "t_final = t_hour*iter_per_hour\n",
    "Ux = np.zeros((Lx*Ly*t_hour))\n",
    "Uy = np.zeros((Lx*Ly*t_hour))\n",
    "\n",
    "size = 10\n",
    "\n",
    "id = np.zeros((size))\n",
    "rho_f = np.zeros((size))\n",
    "\n",
    "# Parámetros para la distribución gaussiana que inicializa la densidad\n",
    "mu_x = Lx / 2.0\n",
    "mu_y = Ly / 2.0\n",
    "sigma_x = Lx / 32.0\n",
    "sigma_y = Ly / 32.0\n",
    "\n",
    "lbm = LatticeBoltzman(Lx, Ly, t_hour, iter_per_hour, id, rho_f, Ux, Uy)\n",
    "lbm.Start(rho0, Ux0, Uy0, mu_x, mu_y, sigma_x, sigma_y)\n",
    "\n"
   ]
  },
  {
   "cell_type": "code",
   "execution_count": 5,
   "metadata": {},
   "outputs": [
    {
     "ename": "",
     "evalue": "",
     "output_type": "error",
     "traceback": [
      "\u001b[1;31mThe Kernel crashed while executing code in the current cell or a previous cell. \n",
      "\u001b[1;31mPlease review the code in the cell(s) to identify a possible cause of the failure. \n",
      "\u001b[1;31mClick <a href='https://aka.ms/vscodeJupyterKernelCrash'>here</a> for more info. \n",
      "\u001b[1;31mView Jupyter <a href='command:jupyter.viewOutput'>log</a> for further details."
     ]
    }
   ],
   "source": [
    "# Obtener 'f' como array de NumPy\n",
    "f_values = lbm.get_f  # Esto devuelve un array de NumPy asociado a 'f'\n",
    "\n",
    "# Modificar 'f' asignando un nuevo array\n",
    "new_f_values = np.ones(100*100*9)  # Crear un array nuevo\n",
    "lbm.get_f = new_f_values  # Asignar el array a 'f'"
   ]
  },
  {
   "cell_type": "code",
   "execution_count": 1,
   "metadata": {},
   "outputs": [
    {
     "ename": "NameError",
     "evalue": "name 'lbm' is not defined",
     "output_type": "error",
     "traceback": [
      "\u001b[1;31m---------------------------------------------------------------------------\u001b[0m",
      "\u001b[1;31mNameError\u001b[0m                                 Traceback (most recent call last)",
      "Cell \u001b[1;32mIn[1], line 1\u001b[0m\n\u001b[1;32m----> 1\u001b[0m \u001b[43mlbm\u001b[49m\u001b[38;5;241m.\u001b[39mget_f()\n",
      "\u001b[1;31mNameError\u001b[0m: name 'lbm' is not defined"
     ]
    }
   ],
   "source": [
    "lbm.get_f()"
   ]
  },
  {
   "cell_type": "markdown",
   "metadata": {},
   "source": [
    "## Simulacion"
   ]
  },
  {
   "cell_type": "code",
   "execution_count": 1,
   "metadata": {},
   "outputs": [],
   "source": [
    "#-------------------------------SIMULACIÓN--------------------------------------\n",
    "def simulation(Lx, Ly, t_hour,  t_inital, t_final, iter_per_hour, Ux, Uy, id, rho_f):\n",
    "    rho0 = 0.001\n",
    "    Ux0 = 0.0\n",
    "    Uy0 = 0.0\n",
    "\n",
    "     # Parámetros para la distribución gaussiana que inicializa la densidad\n",
    "    mu_x = Lx / 2.0\n",
    "    mu_y = Ly / 2.0\n",
    "    sigma_x = Lx / 32.0\n",
    "    sigma_y = Ly / 32.0\n",
    "    \n",
    "    lbm = LatticeBoltzman(Lx, Ly, t_hour, iter_per_hour, id, rho_f, Ux, Uy)\n",
    "    lbm.Start(rho0, Ux0, Uy0, mu_x, mu_y, sigma_x, sigma_y)\n",
    "    \n",
    "    # Simular por 100 pasos de tiempo\n",
    "    for t in range(t_inital, t_final):\n",
    "        lbm.Collision()\n",
    "        lbm.ImposeFields(t)\n",
    "        lbm.Advection()\n",
    "        \n",
    "    return  lbm.Data()\n",
    "            \n",
    "            "
   ]
  },
  {
   "cell_type": "markdown",
   "metadata": {},
   "source": [
    "## Carga de Datos"
   ]
  },
  {
   "cell_type": "code",
   "execution_count": null,
   "metadata": {},
   "outputs": [],
   "source": [
    "#-------------------------------Carga de datos--------------------------------------\n",
    "\n",
    "# Cargar datos de velocidad\n",
    "data = np.loadtxt('data/velocity.txt')\n",
    "Ux = data[:, 0]\n",
    "Uy = data[:, 1]\n",
    "\n",
    "# Cargar datos de densidad de incendios\n",
    "data = np.loadtxt('data/fire_coord.txt')\n",
    "id = data[:, 0].astype(int)\n",
    "rho_f = data[:, 1]\n",
    "\n",
    "#Parámetros de la simulación\n",
    "data = np.loadtxt('data/parameters.txt')\n",
    "Lx = int(data[0])\n",
    "Ly = int(data[1])\n",
    "\n",
    "#Coordenadas estaciones\n",
    "data = np.loadtxt('data/stations_coord.txt')\n",
    "Est = data[:, 0].astype(str)\n",
    "Est_ix = data[:, 1].astype(int)\n",
    "Est_iy = data[:, 2].astype(int)\n"
   ]
  },
  {
   "cell_type": "code",
   "execution_count": 245,
   "metadata": {},
   "outputs": [
    {
     "data": {
      "text/plain": [
       "(100, 140)"
      ]
     },
     "execution_count": 245,
     "metadata": {},
     "output_type": "execute_result"
    }
   ],
   "source": [
    "#-------------------------------MAIN--------------------------------------\n",
    "Lx = 100\n",
    "Ly = int(Lx*1.4)\n",
    "t_hour = 100\n",
    "iter_per_hour = 10\n",
    "t_inital = 0\n",
    "t_final = t_hour*iter_per_hour\n",
    "Ux = np.zeros((Lx*Ly*t_hour))\n",
    "Uy = np.zeros((Lx*Ly*t_hour))\n",
    "\n",
    "size = 10\n",
    "\n",
    "id = np.zeros((size))\n",
    "rho_f = np.zeros((size))\n",
    "\n",
    "\n",
    "# Ejecutar la simulación\n",
    "result_simulation = simulation(Lx, Ly, t_hour, t_inital, \n",
    "                               t_final, iter_per_hour, \n",
    "                               Ux, Uy, id, rho_f)\n",
    "result_simulation.shape"
   ]
  },
  {
   "cell_type": "code",
   "execution_count": 246,
   "metadata": {},
   "outputs": [
    {
     "data": {
      "text/plain": [
       "<matplotlib.colorbar.Colorbar at 0x27b4e36ced0>"
      ]
     },
     "execution_count": 246,
     "metadata": {},
     "output_type": "execute_result"
    },
    {
     "data": {
      "image/png": "[encoded data removed]",
      "text/plain": [
       "<Figure size 640x480 with 2 Axes>"
      ]
     },
     "metadata": {},
     "output_type": "display_data"
    }
   ],
   "source": [
    "# Graficar los resultados\n",
    "plt.imshow(result_simulation, cmap='viridis', origin='lower')\n",
    "plt.colorbar(cax=None, ax=None, orientation='vertical')\n"
   ]
  },
  {
   "cell_type": "code",
   "execution_count": null,
   "metadata": {},
   "outputs": [],
   "source": [
    "# Extraer los valores de result_simulation en base a las coordenadas de las estaciones\n",
    "station_values = result_simulation[Est_ix, Est_iy]\n",
    "\n",
    "# Mostrar los valores extraídos\n",
    "for est, ix, iy, value in zip(Est, Est_ix, Est_iy, station_values):\n",
    "    print(f\"Estación: {est}, ix: {ix}, iy: {iy}, Valor: {value}\")"
   ]
  },
  {
   "cell_type": "markdown",
   "metadata": {},
   "source": [
    "# Ajuste "
   ]
  },
  {
   "cell_type": "code",
   "execution_count": null,
   "metadata": {},
   "outputs": [],
   "source": []
  }
 ],
 "metadata": {
  "kernelspec": {
   "display_name": "Python 3",
   "language": "python",
   "name": "python3"
  },
  "language_info": {
   "codemirror_mode": {
    "name": "ipython",
    "version": 3
   },
   "file_extension": ".py",
   "mimetype": "text/x-python",
   "name": "python",
   "nbconvert_exporter": "python",
   "pygments_lexer": "ipython3",
   "version": "3.11.9"
  }
 },
 "nbformat": 4,
 "nbformat_minor": 2
}
