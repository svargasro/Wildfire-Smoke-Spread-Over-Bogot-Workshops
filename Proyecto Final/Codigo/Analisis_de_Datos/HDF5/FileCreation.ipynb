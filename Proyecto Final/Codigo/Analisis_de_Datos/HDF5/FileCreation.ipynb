{
 "cells": [
  {
   "cell_type": "code",
   "execution_count": 1,
   "metadata": {},
   "outputs": [],
   "source": [
    "import h5py\n",
    "import numpy as np\n",
    "\n",
    "# Crear un nuevo archivo HDF5\n",
    "file = h5py.File('example.h5', 'w')\n",
    "\n",
    "# Crear un dataset\n",
    "dset = file.create_dataset('dataset', (100,), dtype='i')\n",
    "\n",
    "# Añadir datos al dataset\n",
    "dset[:] = np.arange(100)\n",
    "\n",
    "# Añadir un atributo al dataset\n",
    "dset.attrs['description'] = 'Ejemplo de archivo HDF5'\n",
    "\n",
    "# Cerrar el archivo\n",
    "file.close()\n"
   ]
  },
  {
   "cell_type": "code",
   "execution_count": null,
   "metadata": {},
   "outputs": [],
   "source": []
  }
 ],
 "metadata": {
  "kernelspec": {
   "display_name": "base",
   "language": "python",
   "name": "python3"
  },
  "language_info": {
   "codemirror_mode": {
    "name": "ipython",
    "version": 3
   },
   "file_extension": ".py",
   "mimetype": "text/x-python",
   "name": "python",
   "nbconvert_exporter": "python",
   "pygments_lexer": "ipython3",
   "version": "3.11.5"
  }
 },
 "nbformat": 4,
 "nbformat_minor": 2
}
