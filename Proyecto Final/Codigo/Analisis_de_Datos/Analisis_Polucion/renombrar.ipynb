{
 "cells": [
  {
   "cell_type": "code",
   "execution_count": 12,
   "metadata": {},
   "outputs": [
    {
     "name": "stdout",
     "output_type": "stream",
     "text": [
      "Renombrado: raw_data/Bolivia_fromGraph_18-05-2024 (1).xlsx -> raw_data/Bolivia_PM10_22-01-2024 (1).xlsx\n",
      "Renombrado: raw_data/Bolivia_fromGraph_18-05-2024.xlsx -> raw_data/Bolivia_PM10_22-01-2024.xlsx\n",
      "Renombrado: raw_data/Carvajal_-_Sevillana_fromGraph_18-05-2024 (1).xlsx -> raw_data/Carvajal_-_Sevillana_PM10_22-01-2024 (1).xlsx\n",
      "Renombrado: raw_data/Carvajal_-_Sevillana_fromGraph_18-05-2024.xlsx -> raw_data/Carvajal_-_Sevillana_PM10_22-01-2024.xlsx\n",
      "Renombrado: raw_data/Centro_de_Alto_Rendimiento_fromGraph_18-05-2024 (1).xlsx -> raw_data/Centro_de_Alto_Rendimiento_PM10_22-01-2024 (1).xlsx\n",
      "Renombrado: raw_data/Centro_de_Alto_Rendimiento_fromGraph_18-05-2024.xlsx -> raw_data/Centro_de_Alto_Rendimiento_PM10_22-01-2024.xlsx\n",
      "Renombrado: raw_data/Ciudad_Bolivar_fromGraph_18-05-2024 (1).xlsx -> raw_data/Ciudad_Bolivar_PM10_22-01-2024 (1).xlsx\n",
      "Renombrado: raw_data/Ciudad_Bolivar_fromGraph_18-05-2024.xlsx -> raw_data/Ciudad_Bolivar_PM10_22-01-2024.xlsx\n",
      "Renombrado: raw_data/Colina_fromGraph_18-05-2024 (1).xlsx -> raw_data/Colina_PM10_22-01-2024 (1).xlsx\n",
      "Renombrado: raw_data/Colina_fromGraph_18-05-2024.xlsx -> raw_data/Colina_PM10_22-01-2024.xlsx\n",
      "Renombrado: raw_data/Fontibon_fromGraph_18-05-2024 (1).xlsx -> raw_data/Fontibon_PM10_22-01-2024 (1).xlsx\n",
      "Renombrado: raw_data/Fontibon_fromGraph_18-05-2024.xlsx -> raw_data/Fontibon_PM10_22-01-2024.xlsx\n",
      "Renombrado: raw_data/Guaymaral_fromGraph_18-05-2024 (1).xlsx -> raw_data/Guaymaral_PM10_22-01-2024 (1).xlsx\n",
      "Renombrado: raw_data/Guaymaral_fromGraph_18-05-2024.xlsx -> raw_data/Guaymaral_PM10_22-01-2024.xlsx\n",
      "Renombrado: raw_data/Jazmin_fromGraph_18-05-2024 (1).xlsx -> raw_data/Jazmin_PM10_22-01-2024 (1).xlsx\n",
      "Renombrado: raw_data/Jazmin_fromGraph_18-05-2024.xlsx -> raw_data/Jazmin_PM10_22-01-2024.xlsx\n",
      "Renombrado: raw_data/Kennedy_fromGraph_18-05-2024 (1).xlsx -> raw_data/Kennedy_PM10_22-01-2024 (1).xlsx\n",
      "Renombrado: raw_data/Kennedy_fromGraph_18-05-2024.xlsx -> raw_data/Kennedy_PM10_22-01-2024.xlsx\n",
      "Renombrado: raw_data/Las_Ferias_fromGraph_18-05-2024 (1).xlsx -> raw_data/Las_Ferias_PM10_22-01-2024 (1).xlsx\n",
      "Renombrado: raw_data/Las_Ferias_fromGraph_18-05-2024.xlsx -> raw_data/Las_Ferias_PM10_22-01-2024.xlsx\n",
      "Renombrado: raw_data/MinAmbiente_fromGraph_18-05-2024 (1).xlsx -> raw_data/MinAmbiente_PM10_22-01-2024 (1).xlsx\n",
      "Renombrado: raw_data/MinAmbiente_fromGraph_18-05-2024.xlsx -> raw_data/MinAmbiente_PM10_22-01-2024.xlsx\n",
      "Renombrado: raw_data/Movil_7ma_fromGraph_18-05-2024 (1).xlsx -> raw_data/Movil_7ma_PM10_22-01-2024 (1).xlsx\n",
      "Renombrado: raw_data/Movil_7ma_fromGraph_18-05-2024.xlsx -> raw_data/Movil_7ma_PM10_22-01-2024.xlsx\n",
      "Renombrado: raw_data/Movil_Fontibon_fromGraph_18-05-2024 (1).xlsx -> raw_data/Movil_Fontibon_PM10_22-01-2024 (1).xlsx\n",
      "Renombrado: raw_data/Movil_Fontibon_fromGraph_18-05-2024.xlsx -> raw_data/Movil_Fontibon_PM10_22-01-2024.xlsx\n",
      "Renombrado: raw_data/Puente_Aranda_fromGraph_18-05-2024 (1).xlsx -> raw_data/Puente_Aranda_PM10_22-01-2024 (1).xlsx\n",
      "Renombrado: raw_data/Puente_Aranda_fromGraph_18-05-2024.xlsx -> raw_data/Puente_Aranda_PM10_22-01-2024.xlsx\n",
      "Renombrado: raw_data/San_Cristobal_fromGraph_18-05-2024 (1).xlsx -> raw_data/San_Cristobal_PM10_22-01-2024 (1).xlsx\n",
      "Renombrado: raw_data/San_Cristobal_fromGraph_18-05-2024.xlsx -> raw_data/San_Cristobal_PM10_22-01-2024.xlsx\n",
      "Renombrado: raw_data/Suba_fromGraph_18-05-2024 (1).xlsx -> raw_data/Suba_PM10_22-01-2024 (1).xlsx\n",
      "Renombrado: raw_data/Suba_fromGraph_18-05-2024.xlsx -> raw_data/Suba_PM10_22-01-2024.xlsx\n",
      "Renombrado: raw_data/Tunal_fromGraph_18-05-2024 (1).xlsx -> raw_data/Tunal_PM10_22-01-2024 (1).xlsx\n",
      "Renombrado: raw_data/Tunal_fromGraph_18-05-2024.xlsx -> raw_data/Tunal_PM10_22-01-2024.xlsx\n",
      "Renombrado: raw_data/Usaquen_fromGraph_18-05-2024 (1).xlsx -> raw_data/Usaquen_PM10_22-01-2024 (1).xlsx\n",
      "Renombrado: raw_data/Usaquen_fromGraph_18-05-2024.xlsx -> raw_data/Usaquen_PM10_22-01-2024.xlsx\n",
      "Renombrado: raw_data/Usme_fromGraph_18-05-2024 (1).xlsx -> raw_data/Usme_PM10_22-01-2024 (1).xlsx\n",
      "Renombrado: raw_data/Usme_fromGraph_18-05-2024.xlsx -> raw_data/Usme_PM10_22-01-2024.xlsx\n"
     ]
    }
   ],
   "source": [
    "import os\n",
    "\n",
    "# Especifica el directorio donde se encuentran los archivos\n",
    "directorio = 'raw_data/'\n",
    "\n",
    "# Parte del nombre que deseas cambiar\n",
    "parte_vieja = 'fromGraph_18-05-2024'\n",
    "parte_nueva = 'PM10_22-01-2024'\n",
    "\n",
    "# Listar todos los archivos en el directorio\n",
    "for nombre_archivo in os.listdir(directorio):\n",
    "    # Comprobar si el archivo contiene la parte vieja\n",
    "    if parte_vieja in nombre_archivo:\n",
    "        # Crear el nuevo nombre del archivo reemplazando la parte vieja con la nueva\n",
    "        nuevo_nombre = nombre_archivo.replace(parte_vieja, parte_nueva)\n",
    "        # Obtener las rutas completas\n",
    "        ruta_vieja = os.path.join(directorio, nombre_archivo)\n",
    "        ruta_nueva = os.path.join(directorio, nuevo_nombre)\n",
    "        # Renombrar el archivo\n",
    "        os.rename(ruta_vieja, ruta_nueva)\n",
    "        print(f'Renombrado: {ruta_vieja} -> {ruta_nueva}')"
   ]
  },
  {
   "cell_type": "code",
   "execution_count": 13,
   "metadata": {},
   "outputs": [
    {
     "name": "stdout",
     "output_type": "stream",
     "text": [
      "Renombrado: raw_data/Bolivia_PM10_22-01-2024 (1).xlsx -> raw_data/Bolivia_PM2.5_22-01-2024.xlsx\n",
      "Renombrado: raw_data/Carvajal_-_Sevillana_PM10_22-01-2024 (1).xlsx -> raw_data/Carvajal_-_Sevillana_PM2.5_22-01-2024.xlsx\n",
      "Renombrado: raw_data/Centro_de_Alto_Rendimiento_PM10_22-01-2024 (1).xlsx -> raw_data/Centro_de_Alto_Rendimiento_PM2.5_22-01-2024.xlsx\n",
      "Renombrado: raw_data/Ciudad_Bolivar_PM10_22-01-2024 (1).xlsx -> raw_data/Ciudad_Bolivar_PM2.5_22-01-2024.xlsx\n",
      "Renombrado: raw_data/Colina_PM10_22-01-2024 (1).xlsx -> raw_data/Colina_PM2.5_22-01-2024.xlsx\n",
      "Renombrado: raw_data/Fontibon_PM10_22-01-2024 (1).xlsx -> raw_data/Fontibon_PM2.5_22-01-2024.xlsx\n",
      "Renombrado: raw_data/Guaymaral_PM10_22-01-2024 (1).xlsx -> raw_data/Guaymaral_PM2.5_22-01-2024.xlsx\n",
      "Renombrado: raw_data/Jazmin_PM10_22-01-2024 (1).xlsx -> raw_data/Jazmin_PM2.5_22-01-2024.xlsx\n",
      "Renombrado: raw_data/Kennedy_PM10_22-01-2024 (1).xlsx -> raw_data/Kennedy_PM2.5_22-01-2024.xlsx\n",
      "Renombrado: raw_data/Las_Ferias_PM10_22-01-2024 (1).xlsx -> raw_data/Las_Ferias_PM2.5_22-01-2024.xlsx\n",
      "Renombrado: raw_data/MinAmbiente_PM10_22-01-2024 (1).xlsx -> raw_data/MinAmbiente_PM2.5_22-01-2024.xlsx\n",
      "Renombrado: raw_data/Movil_7ma_PM10_22-01-2024 (1).xlsx -> raw_data/Movil_7ma_PM2.5_22-01-2024.xlsx\n",
      "Renombrado: raw_data/Movil_Fontibon_PM10_22-01-2024 (1).xlsx -> raw_data/Movil_Fontibon_PM2.5_22-01-2024.xlsx\n",
      "Renombrado: raw_data/Puente_Aranda_PM10_22-01-2024 (1).xlsx -> raw_data/Puente_Aranda_PM2.5_22-01-2024.xlsx\n",
      "Renombrado: raw_data/San_Cristobal_PM10_22-01-2024 (1).xlsx -> raw_data/San_Cristobal_PM2.5_22-01-2024.xlsx\n",
      "Renombrado: raw_data/Suba_PM10_22-01-2024 (1).xlsx -> raw_data/Suba_PM2.5_22-01-2024.xlsx\n",
      "Renombrado: raw_data/Tunal_PM10_22-01-2024 (1).xlsx -> raw_data/Tunal_PM2.5_22-01-2024.xlsx\n",
      "Renombrado: raw_data/Usaquen_PM10_22-01-2024 (1).xlsx -> raw_data/Usaquen_PM2.5_22-01-2024.xlsx\n",
      "Renombrado: raw_data/Usme_PM10_22-01-2024 (1).xlsx -> raw_data/Usme_PM2.5_22-01-2024.xlsx\n"
     ]
    }
   ],
   "source": [
    "# Especifica el directorio donde se encuentran los archivos\n",
    "directorio = 'raw_data/'\n",
    "\n",
    "# Parte del nombre que deseas cambiar\n",
    "parte_vieja = 'PM10_22-01-2024 (1)'\n",
    "parte_nueva = 'PM2.5_22-01-2024'\n",
    "\n",
    "# Listar todos los archivos en el directorio\n",
    "for nombre_archivo in os.listdir(directorio):\n",
    "    # Comprobar si el archivo contiene la parte vieja\n",
    "    if parte_vieja in nombre_archivo:\n",
    "        # Crear el nuevo nombre del archivo reemplazando la parte vieja con la nueva\n",
    "        nuevo_nombre = nombre_archivo.replace(parte_vieja, parte_nueva)\n",
    "        # Obtener las rutas completas\n",
    "        ruta_vieja = os.path.join(directorio, nombre_archivo)\n",
    "        ruta_nueva = os.path.join(directorio, nuevo_nombre)\n",
    "        # Renombrar el archivo\n",
    "        os.rename(ruta_vieja, ruta_nueva)\n",
    "        print(f'Renombrado: {ruta_vieja} -> {ruta_nueva}')"
   ]
  }
 ],
 "metadata": {
  "kernelspec": {
   "display_name": "base",
   "language": "python",
   "name": "python3"
  },
  "language_info": {
   "codemirror_mode": {
    "name": "ipython",
    "version": 3
   },
   "file_extension": ".py",
   "mimetype": "text/x-python",
   "name": "python",
   "nbconvert_exporter": "python",
   "pygments_lexer": "ipython3",
   "version": "3.11.5"
  }
 },
 "nbformat": 4,
 "nbformat_minor": 2
}
